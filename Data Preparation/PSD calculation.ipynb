{
 "cells": [
  {
   "cell_type": "code",
   "execution_count": 1,
   "metadata": {
    "collapsed": true
   },
   "outputs": [],
   "source": [
    "import math"
   ]
  },
  {
   "cell_type": "code",
   "execution_count": 2,
   "metadata": {
    "collapsed": true
   },
   "outputs": [],
   "source": [
    "def PSD (Distance, Sighting_Angle, Boat_Angle):\n",
    "    #reposition the boat angle at zero degree\n",
    "    Sighting_Angle = Sighting_Angle - Boat_Angle\n",
    "    \n",
    "    #avoid negative degrees\n",
    "    if Sighting_Angle < 0:\n",
    "        Sighting_Angle = Sighting_Angle + 360\n",
    "    \n",
    "    #sighitng should be made on 90 degrees left and 90 degrees right\n",
    "    if 0 < Sighting_Angle < 180 :\n",
    "        if Sighting_Angle  <= 90:\n",
    "            print('True. Sighting is within 90 degrees')\n",
    "            angle = math.radians(Sighting_Angle)\n",
    "            PSD = Distance*(math.sin(angle))\n",
    "            print(PSD)\n",
    "        else:\n",
    "            print('False. Sighitng angle is greater than 90 degrees')\n",
    "    if 180 < Sighting_Angle < 360:\n",
    "        if (360 - Sighting_Angle) <= 90:\n",
    "            print('True. Sighting is within 90 degrees')\n",
    "            angle = math.radians(360 - Sighting_Angle)\n",
    "            PSD = Distance*(math.sin(angle))\n",
    "            print(PSD)\n",
    "        else:\n",
    "            print('False. Sighitng angle is greater than 90 degrees')"
   ]
  },
  {
   "cell_type": "code",
   "execution_count": 3,
   "metadata": {},
   "outputs": [
    {
     "name": "stdout",
     "output_type": "stream",
     "text": [
      "True. Sighting is within 90 degrees\n",
      "179.43991863686645\n"
     ]
    }
   ],
   "source": [
    "PSD(651, 81, 97)"
   ]
  },
  {
   "cell_type": "code",
   "execution_count": null,
   "metadata": {
    "collapsed": true
   },
   "outputs": [],
   "source": []
  }
 ],
 "metadata": {
  "kernelspec": {
   "display_name": "Python 3",
   "language": "python",
   "name": "python3"
  },
  "language_info": {
   "codemirror_mode": {
    "name": "ipython",
    "version": 3
   },
   "file_extension": ".py",
   "mimetype": "text/x-python",
   "name": "python",
   "nbconvert_exporter": "python",
   "pygments_lexer": "ipython3",
   "version": "3.5.3"
  }
 },
 "nbformat": 4,
 "nbformat_minor": 2
}
