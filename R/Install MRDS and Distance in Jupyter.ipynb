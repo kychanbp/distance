{
 "cells": [
  {
   "cell_type": "code",
   "execution_count": 2,
   "metadata": {},
   "outputs": [
    {
     "name": "stderr",
     "output_type": "stream",
     "text": [
      "Installing package into 'C:/Users/ustjo/OneDrive/Documents/R/win-library/3.4'\n",
      "(as 'lib' is unspecified)\n",
      "also installing the dependencies 'memoise', 'whisker', 'rstudioapi', 'git2r'\n",
      "\n"
     ]
    },
    {
     "name": "stdout",
     "output_type": "stream",
     "text": [
      "package 'memoise' successfully unpacked and MD5 sums checked\n",
      "package 'whisker' successfully unpacked and MD5 sums checked\n",
      "package 'rstudioapi' successfully unpacked and MD5 sums checked\n",
      "package 'git2r' successfully unpacked and MD5 sums checked\n",
      "package 'devtools' successfully unpacked and MD5 sums checked\n",
      "\n",
      "The downloaded binary packages are in\n",
      "\tC:\\Users\\ustjo\\AppData\\Local\\Temp\\RtmpU54ofq\\downloaded_packages\n"
     ]
    }
   ],
   "source": [
    "#install devtool with repos\n",
    "install.packages(\"devtools\", repos = 'https://mirrors.tuna.tsinghua.edu.cn/CRAN/')"
   ]
  },
  {
   "cell_type": "code",
   "execution_count": 4,
   "metadata": {},
   "outputs": [
    {
     "name": "stderr",
     "output_type": "stream",
     "text": [
      "Downloading GitHub repo DistanceDevelopment/mrds@master\n",
      "from URL https://api.github.com/repos/DistanceDevelopment/mrds/zipball/master\n",
      "Installing mrds\n",
      "Installing 1 package: optimx\n",
      "Installing package into 'C:/Users/ustjo/OneDrive/Documents/R/win-library/3.4'\n",
      "(as 'lib' is unspecified)\n",
      "also installing the dependencies 'ucminf', 'BB', 'Rcgmin', 'Rvmmin', 'minqa', 'setRNG', 'dfoptim', 'svUnit'\n",
      "\n"
     ]
    },
    {
     "name": "stdout",
     "output_type": "stream",
     "text": [
      "package 'ucminf' successfully unpacked and MD5 sums checked\n",
      "package 'BB' successfully unpacked and MD5 sums checked\n",
      "package 'Rcgmin' successfully unpacked and MD5 sums checked\n",
      "package 'Rvmmin' successfully unpacked and MD5 sums checked\n",
      "package 'minqa' successfully unpacked and MD5 sums checked\n",
      "package 'setRNG' successfully unpacked and MD5 sums checked\n",
      "package 'dfoptim' successfully unpacked and MD5 sums checked\n",
      "package 'svUnit' successfully unpacked and MD5 sums checked\n",
      "package 'optimx' successfully unpacked and MD5 sums checked\n",
      "\n",
      "The downloaded binary packages are in\n",
      "\tC:\\Users\\ustjo\\AppData\\Local\\Temp\\RtmpU54ofq\\downloaded_packages\n"
     ]
    },
    {
     "name": "stderr",
     "output_type": "stream",
     "text": [
      "Installing 1 package: Rsolnp\n",
      "Installing package into 'C:/Users/ustjo/OneDrive/Documents/R/win-library/3.4'\n",
      "(as 'lib' is unspecified)\n"
     ]
    },
    {
     "name": "stdout",
     "output_type": "stream",
     "text": [
      "package 'Rsolnp' successfully unpacked and MD5 sums checked\n",
      "\n",
      "The downloaded binary packages are in\n",
      "\tC:\\Users\\ustjo\\AppData\\Local\\Temp\\RtmpU54ofq\\downloaded_packages\n"
     ]
    },
    {
     "name": "stderr",
     "output_type": "stream",
     "text": [
      "\"C:/Users/ustjo/Anaconda3/R/bin/x64/R\" --no-site-file --no-environ --no-save  \\\n",
      "  --no-restore --quiet CMD INSTALL  \\\n",
      "  \"C:/Users/ustjo/AppData/Local/Temp/RtmpU54ofq/devtools32bc29e25f3d/DistanceDevelopment-mrds-f5b7bc9\"  \\\n",
      "  --library=\"C:/Users/ustjo/OneDrive/Documents/R/win-library/3.4\"  \\\n",
      "  --install-tests \n",
      "\n"
     ]
    }
   ],
   "source": [
    "#install mrds\n",
    "library(devtools)\n",
    "install_github(\"DistanceDevelopment/mrds\")"
   ]
  },
  {
   "cell_type": "code",
   "execution_count": 5,
   "metadata": {},
   "outputs": [
    {
     "name": "stderr",
     "output_type": "stream",
     "text": [
      "Downloading GitHub repo DistanceDevelopment/Distance@master\n",
      "from URL https://api.github.com/repos/DistanceDevelopment/Distance/zipball/master\n",
      "Installing Distance\n",
      "\"C:/Users/ustjo/Anaconda3/R/bin/x64/R\" --no-site-file --no-environ --no-save  \\\n",
      "  --no-restore --quiet CMD INSTALL  \\\n",
      "  \"C:/Users/ustjo/AppData/Local/Temp/RtmpU54ofq/devtools32bcff650e2/DistanceDevelopment-Distance-2906dd3\"  \\\n",
      "  --library=\"C:/Users/ustjo/OneDrive/Documents/R/win-library/3.4\"  \\\n",
      "  --install-tests \n",
      "\n"
     ]
    }
   ],
   "source": [
    "#install distance\n",
    "install_github(\"DistanceDevelopment/Distance\")"
   ]
  },
  {
   "cell_type": "code",
   "execution_count": null,
   "metadata": {
    "collapsed": true
   },
   "outputs": [],
   "source": []
  }
 ],
 "metadata": {
  "kernelspec": {
   "display_name": "R",
   "language": "R",
   "name": "ir"
  },
  "language_info": {
   "codemirror_mode": "r",
   "file_extension": ".r",
   "mimetype": "text/x-r-source",
   "name": "R",
   "pygments_lexer": "r",
   "version": "3.4.2"
  }
 },
 "nbformat": 4,
 "nbformat_minor": 2
}
